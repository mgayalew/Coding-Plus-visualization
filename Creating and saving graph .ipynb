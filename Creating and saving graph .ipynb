{
 "cells": [
  {
   "cell_type": "markdown",
   "metadata": {},
   "source": [
    "## Answer for coding assignment  using Python \n",
    "By Muluemebet Ayalew\n",
    "March, 2017\n"
   ]
  },
  {
   "cell_type": "code",
   "execution_count": 1,
   "metadata": {
    "collapsed": false
   },
   "outputs": [],
   "source": [
    "# libraries used \n",
    "import pandas as pd  # a library I used to read the xlsx file and more \n",
    "import numpy as np    # to create array\n",
    "import matplotlib.pyplot as plt   # I used it to create barplots"
   ]
  },
  {
   "cell_type": "code",
   "execution_count": 3,
   "metadata": {
    "collapsed": false
   },
   "outputs": [],
   "source": [
    "# Reading the excel file \n",
    "mydata= pd.read_excel(\"Ganesh.xlsx\", sheetname= \"Sheet1\")\n"
   ]
  },
  {
   "cell_type": "code",
   "execution_count": 5,
   "metadata": {
    "collapsed": true
   },
   "outputs": [],
   "source": [
    "arry_data=np.array(mydata) # convert the data frame in to array"
   ]
  },
  {
   "cell_type": "code",
   "execution_count": 5,
   "metadata": {
    "collapsed": true
   },
   "outputs": [],
   "source": [
    "# to see the graph inline while using Jupyternotebook or use plt.show() in shell to pop up the graph in another window\n",
    "%matplotlib inline "
   ]
  },
  {
   "cell_type": "code",
   "execution_count": 7,
   "metadata": {
    "collapsed": false
   },
   "outputs": [
    {
     "data": {
      "image/png": "[encoded data removed]",
      "text/plain": [
       "<matplotlib.figure.Figure at 0x10dbdbeb8>"
      ]
     },
     "metadata": {},
     "output_type": "display_data"
    }
   ],
   "source": [
    "\n",
    "arry_data=np.array(mydata) # convert the data frame in to array\n",
    "Period=arry_data[:, 1:2]   # Extract Period \n",
    "Actual= arry_data[:, 2:3]   # Extract Actual Values  \n",
    "Target= arry_data[:, 3:4]   # Extract Target Values  \n",
    "\n",
    "fig= plt.figure() # create a figure \n",
    "loc = np.arange(len(Period)) \n",
    "loc=loc+1 # to assign the range of numbers to the corresponding months\n",
    "\n",
    "# bar plot \n",
    "p1 = plt.bar(loc, Actual, width=0.8, bottom= None, color='b')    \n",
    "p2 = plt.bar(loc, Target, width=0.35, bottom= None,  color= \"r\")\n",
    "\n",
    "plt.title('Actual Vs Target for year 2016')  \n",
    "plt.xticks(loc)    \n",
    "plt.yticks(np.arange(0, 601, 100)) # Y ticks with 100 increament\n",
    "plt.xlabel(\"Month of Period\")\n",
    "plt.legend((p1[0], p2[0]), ('Actual', 'Target'))\n",
    "\n",
    "plt.show()\n",
    "fig.savefig(\"barplot.png\") # to save the figure as png formate\n"
   ]
  },
  {
   "cell_type": "code",
   "execution_count": 11,
   "metadata": {
    "collapsed": false,
    "scrolled": true
   },
   "outputs": [
    {
     "data": {
      "image/png": "[encoded data removed]",
      "text/plain": [
       "<matplotlib.figure.Figure at 0x11137ce48>"
      ]
     },
     "metadata": {},
     "output_type": "display_data"
    }
   ],
   "source": [
    "delta= Actual-Target # the differnce between the actual and target value\n",
    "pos= delta[delta>=0] \n",
    "neg=delta[delta<0]\n",
    "\n",
    "index_pos= list(set(np.where(delta== pos)[0])) # the index of positive delta values\n",
    "index_neg= list(set(np.where(delta== neg)[0]))  # the index of negative values \n",
    "\n",
    "fig =plt.figure()\n",
    "plt.bar(index_pos, pos, width=1, color='g')  # bar plot for positive delta \n",
    "plt.bar(index_neg, neg, width=1, color='r')  #bar plot for negative delta \n",
    "\n",
    "plt.title('The differnece between Actual and Target for year 2016')\n",
    "plt.yticks(np.arange(-200, 201, 100)) # y ticks with inreament of 100\n",
    "plt.ylabel(\"Delta\")\n",
    "plt.xlabel(\"Month of Period\")\n",
    "\n",
    "plt.show()\n",
    "fig.savefig(\"Delta.png\", format= \"png\")  # to save the figure in png format "
   ]
  },
  {
   "cell_type": "code",
   "execution_count": 47,
   "metadata": {
    "collapsed": false
   },
   "outputs": [
    {
     "data": {
      "image/png": "[encoded data removed]",
      "text/plain": [
       "<matplotlib.figure.Figure at 0x11235a320>"
      ]
     },
     "metadata": {},
     "output_type": "display_data"
    }
   ],
   "source": [
    "\n",
    "# to draw the above plots in the same figure \n",
    "f, (a,b)= plt.subplots(2,1, sharex=True, sharey=True)\n",
    "\n",
    "a.bar(loc, Actual, width=0.8, bottom= None, color='b')    \n",
    "a.bar(loc, Target, width=0.35, bottom= None,  color= \"r\")\n",
    "\n",
    "\n",
    "b.bar(index_pos, pos, width=1, color='g')  # bar plot for positive delta \n",
    "b.bar(index_neg, neg, width=1, color='r')  #bar plot for negative delta \n",
    "\n",
    "a.legend((\"Actual\",\"Target\"))\n",
    "b.set_ylabel(\"Delta\")\n",
    "b.set_xlabel(\"Month of Period\")\n",
    "\n",
    "plt.show()\n"
   ]
  },
  {
   "cell_type": "code",
   "execution_count": null,
   "metadata": {
    "collapsed": true
   },
   "outputs": [],
   "source": []
  }
 ],
 "metadata": {
  "kernelspec": {
   "display_name": "Python [Root]",
   "language": "python",
   "name": "Python [Root]"
  },
  "language_info": {
   "codemirror_mode": {
    "name": "ipython",
    "version": 3
   },
   "file_extension": ".py",
   "mimetype": "text/x-python",
   "name": "python",
   "nbconvert_exporter": "python",
   "pygments_lexer": "ipython3",
   "version": "3.5.2"
  }
 },
 "nbformat": 4,
 "nbformat_minor": 2
}
